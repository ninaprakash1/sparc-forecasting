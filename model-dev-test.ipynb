{
 "cells": [
  {
   "cell_type": "code",
   "execution_count": null,
   "id": "67af77d8",
   "metadata": {},
   "outputs": [],
   "source": [
    "api_key = '8d0e4b3d61f149e095124908222101'\n",
    "\n",
    "tp =1\n",
    "woo = f\"http://api.worldweatheronline.com/premium/v1/weather.ashx?key={api_key}&q=San+Francisco&format=json&num_of_days=1&tp={tp}\"\n",
    "\n",
    "r = requests.get(woo)\n",
    "data = r.json()"
   ]
  },
  {
   "cell_type": "code",
   "execution_count": 1,
   "id": "ee772328",
   "metadata": {},
   "outputs": [
    {
     "ename": "SyntaxError",
     "evalue": "unexpected EOF while parsing (2444126154.py, line 1)",
     "output_type": "error",
     "traceback": [
      "\u001b[0;36m  Input \u001b[0;32mIn [1]\u001b[0;36m\u001b[0m\n\u001b[0;31m    def get_weather_forecast_data():\u001b[0m\n\u001b[0m                                    ^\u001b[0m\n\u001b[0;31mSyntaxError\u001b[0m\u001b[0;31m:\u001b[0m unexpected EOF while parsing\n"
     ]
    }
   ],
   "source": [
    "def get_weather_forecast_data(api_key = api_kay, tp =1, city = 'San+Francisco'):\n",
    "    woo = f\"http://api.worldweatheronline.com/premium/v1/weather.ashx?key={api_key}&q=San+Francisco&format=json&num_of_days=1&tp={tp}\"\n",
    "    r = requests.get(woo)\n",
    "    data = r.json()\n",
    "    data = data['data']['weather'][0]\n",
    "    df_weather = pd.DataFrame(data['hourly'])\n",
    "    df_astronomy = pd.DataFrame(data['astronomy'])\n",
    "    "
   ]
  },
  {
   "cell_type": "code",
   "execution_count": null,
   "id": "85ca1b86",
   "metadata": {},
   "outputs": [],
   "source": []
  }
 ],
 "metadata": {
  "kernelspec": {
   "display_name": "Python 3 (ipykernel)",
   "language": "python",
   "name": "python3"
  },
  "language_info": {
   "codemirror_mode": {
    "name": "ipython",
    "version": 3
   },
   "file_extension": ".py",
   "mimetype": "text/x-python",
   "name": "python",
   "nbconvert_exporter": "python",
   "pygments_lexer": "ipython3",
   "version": "3.8.0"
  }
 },
 "nbformat": 4,
 "nbformat_minor": 5
}
